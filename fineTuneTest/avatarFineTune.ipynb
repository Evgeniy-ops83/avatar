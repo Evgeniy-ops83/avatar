{
 "cells": [
  {
   "cell_type": "markdown",
   "id": "fdc11906-c30a-4976-98e1-c807cf1fa211",
   "metadata": {},
   "source": [
    "=== Импорт пакетов, добавление переменных, инициализация клиента ==="
   ]
  },
  {
   "cell_type": "code",
   "execution_count": 1,
   "id": "75dd9c83-442c-44a6-9eea-46badc429352",
   "metadata": {},
   "outputs": [],
   "source": [
    "import os\n",
    "import json\n",
    "from openai import OpenAI\n",
    "\n",
    "OPENAI_API_KEY=\"MY_API_KEY\"\n",
    "os.environ[\"OPENAI_API_KEY\"] = OPENAI_API_KEY\n",
    "\n",
    "client = OpenAI()"
   ]
  },
  {
   "cell_type": "markdown",
   "id": "9e23ecfa-3af4-4d25-b6bb-f8dfb37f7c39",
   "metadata": {},
   "source": [
    "=== Создание тренировочных данных ==="
   ]
  },
  {
   "cell_type": "code",
   "execution_count": 8,
   "id": "e855182e-4a57-4834-b652-3bb43307a6f3",
   "metadata": {},
   "outputs": [],
   "source": [
    "raw_list = [\n",
    "    {\n",
    "        \"category_name\": \"Electronics\",\n",
    "        \"description\": \"Latest gadgets, smartphones, laptops, and accessories.\"\n",
    "    },\n",
    "    {\n",
    "        \"category_name\": \"Home Appliances\",\n",
    "        \"description\": \"Essentials for your kitchen and household, from refrigerators to microwaves.\"\n",
    "    },\n",
    "    {\n",
    "        \"category_name\": \"Fashion\",\n",
    "        \"description\": \"Trendy clothing, shoes, and accessories for men, women, and children.\"\n",
    "    },\n",
    "    {\n",
    "        \"category_name\": \"Beauty & Health\",\n",
    "        \"description\": \"Skincare, makeup, vitamins, and health products for a better lifestyle.\"\n",
    "    },\n",
    "    {\n",
    "        \"category_name\": \"Toys & Games\",\n",
    "        \"description\": \"Fun and educational toys for children of all ages.\"\n",
    "    },\n",
    "    {\n",
    "        \"category_name\": \"Books\",\n",
    "        \"description\": \"A wide range of genres including fiction, non-fiction, and educational material.\"\n",
    "    },\n",
    "    {\n",
    "        \"category_name\": \"Sports & Outdoors\",\n",
    "        \"description\": \"Equipment and apparel for all your sporting needs and outdoor adventures.\"\n",
    "    },\n",
    "    {\n",
    "        \"category_name\": \"Automotive\",\n",
    "        \"description\": \"Car accessories, tools, and parts for all vehicle needs.\"\n",
    "    },\n",
    "    {\n",
    "        \"category_name\": \"Pet Supplies\",\n",
    "        \"description\": \"Everything you need for your furry friends, from food to toys.\"\n",
    "    },\n",
    "    {\n",
    "        \"category_name\": \"Office Supplies\",\n",
    "        \"description\": \"Stationery, furniture, and tech for your workspace.\"\n",
    "    },\n",
    "    {\n",
    "        \"category_name\": \"Groceries\",\n",
    "        \"description\": \"Daily essentials, fresh produce, and household items.\"\n",
    "    }\n",
    "]\n",
    "\n",
    "ozon_list = list(raw_list)\n",
    "\n",
    "print(ozon_list[0])"
   ]
  },
  {
   "cell_type": "markdown",
   "id": "e575f8ae-a63e-46a3-a9df-dbb19bc98149",
   "metadata": {},
   "source": [
    "=== Создание тренировочного файла ===\n",
    "\n",
    "Тренировочный файл должен содержать не менее 10 примеров (строк)."
   ]
  },
  {
   "cell_type": "code",
   "execution_count": 11,
   "id": "dc8a3e3a-062b-40a6-bd2b-283bdee64f0f",
   "metadata": {},
   "outputs": [],
   "source": [
    "for message in ozon_list:\n",
    "    \n",
    "    ozon_dict = {\"messages\": []}\n",
    "    user_message = {\"role\": \"user\", \"content\": f\"Write a description of {message['category_name']} category\"}\n",
    "    assist_message = {\"role\": \"assistant\", \"content\": f\"{message['description']}\"}\n",
    "\n",
    "    ozon_dict[\"messages\"].append(user_message)\n",
    "    ozon_dict[\"messages\"].append(assist_message)\n",
    "\n",
    "    with open(\"ozonDataset2\", 'a') as f:\n",
    "        f.write(json.dumps(ozon_dict) + \"\\n\")"
   ]
  },
  {
   "cell_type": "markdown",
   "id": "16e955e6-91df-4c69-bb75-bf8f2c46b107",
   "metadata": {},
   "source": [
    "=== Импорт файла для обучения ===\n",
    "\n",
    "Этот запрос возвращает FileObject.id идентификатор, который понадобится для создания процесса обучения (джоб). "
   ]
  },
  {
   "cell_type": "code",
   "execution_count": 12,
   "id": "52ba3b4e-0302-4e14-b314-283a2a690c1d",
   "metadata": {},
   "outputs": [
    {
     "data": {
      "text/plain": [
       "FileObject(id='file-WlvM62mvoDWw75E6C29f66c0', bytes=2121, created_at=1729655826, filename='ozonDataset2', object='file', purpose='fine-tune', status='processed', status_details=None)"
      ]
     },
     "execution_count": 12,
     "metadata": {},
     "output_type": "execute_result"
    }
   ],
   "source": [
    "client.files.create(\n",
    "  file=open(\"ozonDataset2\", \"rb\"),\n",
    "  purpose=\"fine-tune\"\n",
    ")"
   ]
  },
  {
   "cell_type": "markdown",
   "id": "27ab8bec-177a-4cd6-b76d-5d4cadc810be",
   "metadata": {},
   "source": [
    "=== Создание задачи на обучение ===\n",
    "\n",
    "Передаются параметры: идентификатор файла для обучения, базовая модель, кастомное имя модели\n",
    "\n",
    "Этот запрос возвращает FineTuningJob.id идентификатор джобы (процесса обучения). Он понадобится далее."
   ]
  },
  {
   "cell_type": "code",
   "execution_count": 13,
   "id": "6f50c877-171c-49b1-8987-5c0e1730933d",
   "metadata": {},
   "outputs": [
    {
     "data": {
      "text/plain": [
       "FineTuningJob(id='ftjob-r2j4nHvzzoXYRSgZNw6Ui3xJ', created_at=1729655839, error=Error(code=None, message=None, param=None), fine_tuned_model=None, finished_at=None, hyperparameters=Hyperparameters(n_epochs='auto', batch_size='auto', learning_rate_multiplier='auto'), model='gpt-4o-mini-2024-07-18', object='fine_tuning.job', organization_id='org-5zkGYfg93jnJSHOJv7w6rXCb', result_files=[], seed=1387770150, status='validating_files', trained_tokens=None, training_file='file-WlvM62mvoDWw75E6C29f66c0', validation_file=None, estimated_finish=None, integrations=[], user_provided_suffix='avatar-model')"
      ]
     },
     "execution_count": 13,
     "metadata": {},
     "output_type": "execute_result"
    }
   ],
   "source": [
    "client.fine_tuning.jobs.create(\n",
    "  training_file=\"file-WlvM62mvoDWw75E6C29f66c0\",\n",
    "  model=\"gpt-4o-mini-2024-07-18\",\n",
    "  suffix=\"avatar-model\"\n",
    ")"
   ]
  },
  {
   "cell_type": "markdown",
   "id": "14833349-1876-4d04-9dd3-62d794813657",
   "metadata": {},
   "source": [
    "=== Получение данных о процессе обучения ===\n",
    "\n",
    "Передаются параметры: идентификатор джобы (процесса обучения)\n",
    "\n",
    "Необходимо дождаться, когда статус джобы будет status='succeeded', тогда этот запрос вернёт новое имя кастмной модели \"fine_tuned_model\""
   ]
  },
  {
   "cell_type": "code",
   "execution_count": 27,
   "id": "4189151b-e567-4faf-91ba-ac92e43a8478",
   "metadata": {},
   "outputs": [
    {
     "data": {
      "text/plain": [
       "FineTuningJob(id='ftjob-r2j4nHvzzoXYRSgZNw6Ui3xJ', created_at=1729655839, error=Error(code=None, message=None, param=None), fine_tuned_model='ft:gpt-4o-mini-2024-07-18:personal:avatar-model:ALMvv8Xd', finished_at=1729656404, hyperparameters=Hyperparameters(n_epochs=9, batch_size=1, learning_rate_multiplier=1.8), model='gpt-4o-mini-2024-07-18', object='fine_tuning.job', organization_id='org-5zkGYfg93jnJSHOJv7w6rXCb', result_files=['file-HlssQ8gCuecPikJuFhemAY3A'], seed=1387770150, status='succeeded', trained_tokens=2817, training_file='file-WlvM62mvoDWw75E6C29f66c0', validation_file=None, estimated_finish=None, integrations=[], user_provided_suffix='avatar-model')"
      ]
     },
     "execution_count": 27,
     "metadata": {},
     "output_type": "execute_result"
    }
   ],
   "source": [
    "client.fine_tuning.jobs.retrieve(\"ftjob-r2j4nHvzzoXYRSgZNw6Ui3xJ\")"
   ]
  },
  {
   "cell_type": "markdown",
   "id": "1d65ca75-b13f-4c49-9b30-915e0ea480d2",
   "metadata": {},
   "source": [
    "=== Тестовый запрос к обученной модели ==="
   ]
  },
  {
   "cell_type": "code",
   "execution_count": 26,
   "id": "6b9b2748-b6a6-48e6-b888-13bf3948d82e",
   "metadata": {},
   "outputs": [
    {
     "name": "stdout",
     "output_type": "stream",
     "text": [
      "Latest gadgets, smartphones, laptops, and accessories.\n"
     ]
    }
   ],
   "source": [
    "from openai import OpenAI\n",
    "client = OpenAI()\n",
    "\n",
    "completion = client.chat.completions.create(\n",
    "  model=\"ft:gpt-4o-mini-2024-07-18:personal:avatar-model:ALMvv8Xd\",\n",
    "  messages=[\n",
    "    {\"role\": \"user\", \"content\": test_request}\n",
    "  ]\n",
    ")\n",
    "print(completion.choices[0].message.content)"
   ]
  },
  {
   "cell_type": "code",
   "execution_count": 25,
   "id": "f8d6ee93-b065-47db-8579-84e1373b9813",
   "metadata": {},
   "outputs": [],
   "source": [
    "test_request = \"Write a description of Electronics category\""
   ]
  }
 ],
 "metadata": {
  "kernelspec": {
   "display_name": "Python 3 (ipykernel)",
   "language": "python",
   "name": "python3"
  },
  "language_info": {
   "codemirror_mode": {
    "name": "ipython",
    "version": 3
   },
   "file_extension": ".py",
   "mimetype": "text/x-python",
   "name": "python",
   "nbconvert_exporter": "python",
   "pygments_lexer": "ipython3",
   "version": "3.10.15"
  }
 },
 "nbformat": 4,
 "nbformat_minor": 5
}
