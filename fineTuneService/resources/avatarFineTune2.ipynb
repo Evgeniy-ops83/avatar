{
 "cells": [
  {
   "cell_type": "code",
   "execution_count": 2,
   "id": "51c65108-10a7-4109-8325-6886d1bca761",
   "metadata": {},
   "outputs": [],
   "source": [
    "import os\n",
    "import json\n",
    "from datetime import datetime, date\n",
    "\n",
    "from openai import OpenAI"
   ]
  },
  {
   "cell_type": "code",
   "execution_count": 14,
   "id": "f80f2eac-9a73-4dbd-827c-f2d314f2d156",
   "metadata": {},
   "outputs": [
    {
     "name": "stdout",
     "output_type": "stream",
     "text": [
      "'coca-cola.com - 2024-10-26'\n"
     ]
    }
   ],
   "source": [
    "!ls datasets/"
   ]
  },
  {
   "cell_type": "code",
   "execution_count": 3,
   "id": "c6df9bdd-7e68-407f-b1fd-546ac618ae80",
   "metadata": {},
   "outputs": [],
   "source": [
    "OPENAI_API_KEY=\"My_KEY"\n",
    "os.environ[\"OPENAI_API_KEY\"] = OPENAI_API_KEY\n",
    "\n",
    "client = OpenAI()"
   ]
  },
  {
   "cell_type": "markdown",
   "id": "0e6cbf11-38f6-48b8-8dcd-052e1a884460",
   "metadata": {},
   "source": [
    "Перечень полезной информации на сайте:\n",
    "- Общее описание компании\n",
    "- Общее описание ассортимента\n",
    "- Инструкции по возможностям сайта"
   ]
  },
  {
   "cell_type": "code",
   "execution_count": 11,
   "id": "2e63b11a-4c23-4115-b25d-164351b603f2",
   "metadata": {},
   "outputs": [],
   "source": [
    "roles = {\"system\", \"user\", \"assistant\"}\n",
    "train_user_message_model = {\"role\": \"user\", \"content\": \"null\"}\n",
    "train_assistant_message_model = {\"role\": \"assistant\", \"content\": \"null\"}\n",
    "train_file_row = {\"messages\": [{\"role\": \"user\", \"content\": \"null\"}, {\"role\": \"assistant\", \"content\": \"null\"}]}"
   ]
  },
  {
   "cell_type": "code",
   "execution_count": 16,
   "id": "0687ba1b-816d-4ce9-abe2-e3a1591b1a80",
   "metadata": {},
   "outputs": [],
   "source": [
    "from openai import OpenAI\n",
    "client = OpenAI()\n",
    "\n",
    "company_url = \"coca-cola.com\"\n",
    "\n",
    "q_list = ['Название компании ?', \n",
    "          'Рекламное описание компании (объём около 300 симоволов) ?', \n",
    "          'Перечень категорий продукции компании или перечень услуг компании ?'\n",
    "         ]\n",
    "\n",
    "#with open(f\"datasets/{company_url} - {date.today()}\", 'w') as f:\n",
    " #           f.write(\"\" + \"\\n\")\n",
    "\n",
    "def getSysRequest():\n",
    "\n",
    "    sys_request = \\\n",
    "        f\"\"\"\n",
    "        Напиши ответ на вопрос в формате {train_file_row}, \\\n",
    "        Язык английский \\\n",
    "        где для роли 'user' в ключ 'content' подставь вопрос, \\\n",
    "        а для роли 'assistant' в ключ 'content' подставь свой ответ на вопрос\n",
    "        \"\"\"\n",
    "    return sys_request\n",
    "\n",
    "def getUserRequest(question):\n",
    "\n",
    "    user_request = \\\n",
    "        f\"\"\"\n",
    "        Напиши ответ на вопрос о компании исходя из информации на сайте {company_url}: {question}\n",
    "        \"\"\"\n",
    "    return user_request\n",
    "\n",
    "for question in q_list:\n",
    "\n",
    "    completion = client.chat.completions.create(\n",
    "      model=\"gpt-4o-mini\",\n",
    "      messages=[\n",
    "          {\"role\": \"system\", \"content\": getSysRequest()},\n",
    "          {\"role\": \"user\", \"content\": getUserRequest(question)}\n",
    "      ]\n",
    "    )\n",
    "    response = json.dumps(f\"{completion.choices[0].message.content}\")\n",
    "    \n",
    "    with open(f\"datasets/{company_url} - {date.today()}\", 'a+') as f:\n",
    "            f.write(response + \"\\n\")"
   ]
  },
  {
   "cell_type": "code",
   "execution_count": 55,
   "id": "433123c0-3d88-47eb-93f3-b236a867ef79",
   "metadata": {},
   "outputs": [
    {
     "name": "stdout",
     "output_type": "stream",
     "text": [
      "```json\n",
      "{'messages': [{'role': 'user', 'content': 'What is the name of the company?'}, {'role': 'assistant', 'content': 'The name of the company is The Coca-Cola Company.'}}, {'role': 'user', 'content': 'What is the advertising description of the company (approximately 300 characters)?'}, {'role': 'assistant', 'content': 'The Coca-Cola Company is a global leader in the beverage industry, known for its iconic soft drinks and commitment to quality, sustainability, and innovation. With a diverse portfolio of beverages, Coca-Cola aims to refresh the world and inspire moments of optimism and happiness.'}}, {'role': 'user', 'content': 'What are the categories of products or services offered by the company?'}, {'role': 'assistant', 'content': 'The Coca-Cola Company offers a wide variety of products including carbonated soft drinks, juices, dairy drinks, plant-based drinks, teas, coffees, and bottled water. Their portfolio includes well-known brands such as Coca-Cola, Sprite, Fanta, Dasani, and Minute Maid.'}}]}\n",
      "```\n"
     ]
    }
   ],
   "source": [
    "print(response)"
   ]
  },
  {
   "cell_type": "code",
   "execution_count": 51,
   "id": "4bb2f8a3-df6e-4c55-ba62-d3a1029fdca7",
   "metadata": {},
   "outputs": [
    {
     "ename": "TypeError",
     "evalue": "string indices must be integers",
     "output_type": "error",
     "traceback": [
      "\u001b[0;31m---------------------------------------------------------------------------\u001b[0m",
      "\u001b[0;31mTypeError\u001b[0m                                 Traceback (most recent call last)",
      "Cell \u001b[0;32mIn[51], line 1\u001b[0m\n\u001b[0;32m----> 1\u001b[0m \u001b[38;5;28mprint\u001b[39m(\u001b[43mresponse\u001b[49m\u001b[43m[\u001b[49m\u001b[38;5;124;43m\"\u001b[39;49m\u001b[38;5;124;43mmessages\u001b[39;49m\u001b[38;5;124;43m\"\u001b[39;49m\u001b[43m]\u001b[49m[\u001b[38;5;241m0\u001b[39m])\n",
      "\u001b[0;31mTypeError\u001b[0m: string indices must be integers"
     ]
    }
   ],
   "source": [
    "print(response[\"messages\"][0])"
   ]
  },
  {
   "cell_type": "code",
   "execution_count": null,
   "id": "495b6861-0c51-4a3c-9a65-d360bdc7f6f7",
   "metadata": {},
   "outputs": [],
   "source": []
  }
 ],
 "metadata": {
  "kernelspec": {
   "display_name": "Python 3 (ipykernel)",
   "language": "python",
   "name": "python3"
  },
  "language_info": {
   "codemirror_mode": {
    "name": "ipython",
    "version": 3
   },
   "file_extension": ".py",
   "mimetype": "text/x-python",
   "name": "python",
   "nbconvert_exporter": "python",
   "pygments_lexer": "ipython3",
   "version": "3.10.15"
  }
 },
 "nbformat": 4,
 "nbformat_minor": 5
}
